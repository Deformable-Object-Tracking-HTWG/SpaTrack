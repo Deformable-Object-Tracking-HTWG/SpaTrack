{
 "cells": [
  {
   "metadata": {
    "ExecuteTime": {
     "end_time": "2025-08-31T16:59:37.789299Z",
     "start_time": "2025-08-31T16:59:37.785594Z"
    }
   },
   "cell_type": "code",
   "source": [
    "# Imports\n",
    "import os, json\n",
    "import numpy as np\n",
    "import pandas as pd\n",
    "import matplotlib.pyplot as plt\n",
    "import plotly.graph_objects as go\n",
    "import seaborn as sns\n",
    "from pathlib import Path\n",
    "import plotly.io as pio\n",
    "\n",
    "import kaleido\n",
    "kaleido.Kaleido"
   ],
   "id": "ff32285d2dde94e2",
   "outputs": [
    {
     "data": {
      "text/plain": [
       "kaleido.kaleido.Kaleido"
      ]
     },
     "execution_count": 46,
     "metadata": {},
     "output_type": "execute_result"
    }
   ],
   "execution_count": 46
  },
  {
   "metadata": {
    "ExecuteTime": {
     "end_time": "2025-08-31T16:59:37.826179Z",
     "start_time": "2025-08-31T16:59:37.824255Z"
    }
   },
   "cell_type": "code",
   "source": [
    "# static vars\n",
    "eval_data_path = './evaluation'\n",
    "\n",
    "LABEL_MAP = {\n",
    "    \"Gymnastik\": \"Gymnastics ball\",\n",
    "    \"schwamm\": \"Sponge\",\n",
    "    \"terabandMuster\": \"Exercise band\\n(trackingmarker)\",\n",
    "    \"teraband\": \"Exercise band\\n(plain)\",\n",
    "}"
   ],
   "id": "99125513060af716",
   "outputs": [],
   "execution_count": 47
  },
  {
   "metadata": {},
   "cell_type": "markdown",
   "source": "# Read data",
   "id": "4ee1448e8c1a4dc4"
  },
  {
   "metadata": {
    "ExecuteTime": {
     "end_time": "2025-08-31T16:59:37.852295Z",
     "start_time": "2025-08-31T16:59:37.841208Z"
    }
   },
   "cell_type": "code",
   "source": [
    "dirs = os.listdir(eval_data_path)\n",
    "dirs.sort()\n",
    "results = []\n",
    "\n",
    "for eval_target in dirs:\n",
    "\n",
    "    equipment_type, num_str, duration_str = eval_target.split('_')\n",
    "    num = int(num_str)\n",
    "    duration_s = int(duration_str.split('s')[0])\n",
    "\n",
    "\n",
    "    target_path = f'{eval_data_path}/{eval_target}/analysis'\n",
    "    if not os.path.exists(target_path):\n",
    "        print(f'Could not find {target_path}')\n",
    "        continue\n",
    "\n",
    "    csv_path = os.path.join(target_path, 'metrics_per_frame.csv')\n",
    "    json_path = os.path.join(target_path, 'metrics_summary.json')\n",
    "\n",
    "    summary = {}\n",
    "    if os.path.isfile(json_path):\n",
    "        try:\n",
    "            with open(json_path, 'r', encoding='utf-8') as f:\n",
    "                summary = json.load(f)\n",
    "        except Exception as e:\n",
    "            print(f\"Failed to read {json_path}: {e}\")\n",
    "\n",
    "\n",
    "        # Merge summary at top-level; meta keys override on collision\n",
    "        entry = { # flatten fields from metrics_summary.json\n",
    "            \"equipment_type\": equipment_type,\n",
    "            \"num\": num,\n",
    "            \"duration_s\": duration_s,\n",
    "            \"csv_path\": csv_path,\n",
    "            **summary\n",
    "        }\n",
    "\n",
    "        results.append(entry)\n",
    "\n",
    "for elem in results:\n",
    "    print(json.dumps(elem, indent=2, ensure_ascii=False, sort_keys=True))"
   ],
   "id": "e47c390f54a7203b",
   "outputs": [
    {
     "name": "stdout",
     "output_type": "stream",
     "text": [
      "{\n",
      "  \"average_accuracy_percent\": 85.49753505958934,\n",
      "  \"correct_points_total\": 71452,\n",
      "  \"csv_path\": \"./evaluation/Gymnastik_10_30s/analysis/metrics_per_frame.csv\",\n",
      "  \"duration_s\": 30,\n",
      "  \"equipment_type\": \"Gymnastik\",\n",
      "  \"frames_analyzed\": 900,\n",
      "  \"num\": 10,\n",
      "  \"visible_points_total\": 83572\n",
      "}\n",
      "{\n",
      "  \"average_accuracy_percent\": 84.84617401043776,\n",
      "  \"correct_points_total\": 71208,\n",
      "  \"csv_path\": \"./evaluation/Gymnastik_10_30s360/analysis/metrics_per_frame.csv\",\n",
      "  \"duration_s\": 30,\n",
      "  \"equipment_type\": \"Gymnastik\",\n",
      "  \"frames_analyzed\": 900,\n",
      "  \"num\": 10,\n",
      "  \"visible_points_total\": 83926\n",
      "}\n",
      "{\n",
      "  \"average_accuracy_percent\": 90.74236232730104,\n",
      "  \"correct_points_total\": 18653,\n",
      "  \"csv_path\": \"./evaluation/Gymnastik_1_5s/analysis/metrics_per_frame.csv\",\n",
      "  \"duration_s\": 5,\n",
      "  \"equipment_type\": \"Gymnastik\",\n",
      "  \"frames_analyzed\": 150,\n",
      "  \"num\": 1,\n",
      "  \"visible_points_total\": 20556\n",
      "}\n",
      "{\n",
      "  \"average_accuracy_percent\": 91.33513646422425,\n",
      "  \"correct_points_total\": 18573,\n",
      "  \"csv_path\": \"./evaluation/Gymnastik_1_5s360/analysis/metrics_per_frame.csv\",\n",
      "  \"duration_s\": 5,\n",
      "  \"equipment_type\": \"Gymnastik\",\n",
      "  \"frames_analyzed\": 150,\n",
      "  \"num\": 1,\n",
      "  \"visible_points_total\": 20335\n",
      "}\n",
      "{\n",
      "  \"average_accuracy_percent\": 86.88860085954022,\n",
      "  \"correct_points_total\": 12737,\n",
      "  \"csv_path\": \"./evaluation/Gymnastik_2_5s/analysis/metrics_per_frame.csv\",\n",
      "  \"duration_s\": 5,\n",
      "  \"equipment_type\": \"Gymnastik\",\n",
      "  \"frames_analyzed\": 150,\n",
      "  \"num\": 2,\n",
      "  \"visible_points_total\": 14659\n",
      "}\n",
      "{\n",
      "  \"average_accuracy_percent\": 86.90660189887393,\n",
      "  \"correct_points_total\": 11808,\n",
      "  \"csv_path\": \"./evaluation/Gymnastik_3_5s/analysis/metrics_per_frame.csv\",\n",
      "  \"duration_s\": 5,\n",
      "  \"equipment_type\": \"Gymnastik\",\n",
      "  \"frames_analyzed\": 150,\n",
      "  \"num\": 3,\n",
      "  \"visible_points_total\": 13587\n",
      "}\n",
      "{\n",
      "  \"average_accuracy_percent\": 82.50866329602908,\n",
      "  \"correct_points_total\": 14524,\n",
      "  \"csv_path\": \"./evaluation/Gymnastik_4_5s/analysis/metrics_per_frame.csv\",\n",
      "  \"duration_s\": 5,\n",
      "  \"equipment_type\": \"Gymnastik\",\n",
      "  \"frames_analyzed\": 150,\n",
      "  \"num\": 4,\n",
      "  \"visible_points_total\": 17603\n",
      "}\n",
      "{\n",
      "  \"average_accuracy_percent\": 94.31075071933037,\n",
      "  \"correct_points_total\": 14422,\n",
      "  \"csv_path\": \"./evaluation/Gymnastik_5_5s/analysis/metrics_per_frame.csv\",\n",
      "  \"duration_s\": 5,\n",
      "  \"equipment_type\": \"Gymnastik\",\n",
      "  \"frames_analyzed\": 150,\n",
      "  \"num\": 5,\n",
      "  \"visible_points_total\": 15292\n",
      "}\n",
      "{\n",
      "  \"average_accuracy_percent\": 85.86930541612888,\n",
      "  \"correct_points_total\": 17963,\n",
      "  \"csv_path\": \"./evaluation/Gymnastik_6_5s/analysis/metrics_per_frame.csv\",\n",
      "  \"duration_s\": 5,\n",
      "  \"equipment_type\": \"Gymnastik\",\n",
      "  \"frames_analyzed\": 150,\n",
      "  \"num\": 6,\n",
      "  \"visible_points_total\": 20919\n",
      "}\n",
      "{\n",
      "  \"average_accuracy_percent\": 89.47342495443574,\n",
      "  \"correct_points_total\": 36328,\n",
      "  \"csv_path\": \"./evaluation/Gymnastik_7_10s/analysis/metrics_per_frame.csv\",\n",
      "  \"duration_s\": 10,\n",
      "  \"equipment_type\": \"Gymnastik\",\n",
      "  \"frames_analyzed\": 300,\n",
      "  \"num\": 7,\n",
      "  \"visible_points_total\": 40602\n",
      "}\n",
      "{\n",
      "  \"average_accuracy_percent\": 86.5545155578042,\n",
      "  \"correct_points_total\": 27372,\n",
      "  \"csv_path\": \"./evaluation/Gymnastik_8_10s/analysis/metrics_per_frame.csv\",\n",
      "  \"duration_s\": 10,\n",
      "  \"equipment_type\": \"Gymnastik\",\n",
      "  \"frames_analyzed\": 300,\n",
      "  \"num\": 8,\n",
      "  \"visible_points_total\": 31624\n",
      "}\n",
      "{\n",
      "  \"average_accuracy_percent\": 86.91570954325181,\n",
      "  \"correct_points_total\": 22778,\n",
      "  \"csv_path\": \"./evaluation/Gymnastik_9_10s/analysis/metrics_per_frame.csv\",\n",
      "  \"duration_s\": 10,\n",
      "  \"equipment_type\": \"Gymnastik\",\n",
      "  \"frames_analyzed\": 300,\n",
      "  \"num\": 9,\n",
      "  \"visible_points_total\": 26207\n",
      "}\n",
      "{\n",
      "  \"average_accuracy_percent\": 98.63742814562487,\n",
      "  \"correct_points_total\": 9266,\n",
      "  \"csv_path\": \"./evaluation/schwamm_1_5s/analysis/metrics_per_frame.csv\",\n",
      "  \"duration_s\": 5,\n",
      "  \"equipment_type\": \"schwamm\",\n",
      "  \"frames_analyzed\": 150,\n",
      "  \"num\": 1,\n",
      "  \"visible_points_total\": 9394\n",
      "}\n",
      "{\n",
      "  \"average_accuracy_percent\": 100.0,\n",
      "  \"correct_points_total\": 9190,\n",
      "  \"csv_path\": \"./evaluation/schwamm_2_5s/analysis/metrics_per_frame.csv\",\n",
      "  \"duration_s\": 5,\n",
      "  \"equipment_type\": \"schwamm\",\n",
      "  \"frames_analyzed\": 150,\n",
      "  \"num\": 2,\n",
      "  \"visible_points_total\": 9190\n",
      "}\n",
      "{\n",
      "  \"average_accuracy_percent\": 99.50256489973573,\n",
      "  \"correct_points_total\": 12802,\n",
      "  \"csv_path\": \"./evaluation/schwamm_3_5s/analysis/metrics_per_frame.csv\",\n",
      "  \"duration_s\": 5,\n",
      "  \"equipment_type\": \"schwamm\",\n",
      "  \"frames_analyzed\": 150,\n",
      "  \"num\": 3,\n",
      "  \"visible_points_total\": 12866\n",
      "}\n",
      "{\n",
      "  \"average_accuracy_percent\": 91.20667080146096,\n",
      "  \"correct_points_total\": 13235,\n",
      "  \"csv_path\": \"./evaluation/schwamm_4_5s/analysis/metrics_per_frame.csv\",\n",
      "  \"duration_s\": 5,\n",
      "  \"equipment_type\": \"schwamm\",\n",
      "  \"frames_analyzed\": 150,\n",
      "  \"num\": 4,\n",
      "  \"visible_points_total\": 14511\n",
      "}\n",
      "{\n",
      "  \"average_accuracy_percent\": 99.94801656299855,\n",
      "  \"correct_points_total\": 55758,\n",
      "  \"csv_path\": \"./evaluation/schwamm_5_10s/analysis/metrics_per_frame.csv\",\n",
      "  \"duration_s\": 10,\n",
      "  \"equipment_type\": \"schwamm\",\n",
      "  \"frames_analyzed\": 300,\n",
      "  \"num\": 5,\n",
      "  \"visible_points_total\": 55787\n",
      "}\n",
      "{\n",
      "  \"average_accuracy_percent\": 71.24038085300639,\n",
      "  \"correct_points_total\": 5462,\n",
      "  \"csv_path\": \"./evaluation/terabandMuster_1_5s/analysis/metrics_per_frame.csv\",\n",
      "  \"duration_s\": 5,\n",
      "  \"equipment_type\": \"terabandMuster\",\n",
      "  \"frames_analyzed\": 150,\n",
      "  \"num\": 1,\n",
      "  \"visible_points_total\": 7667\n",
      "}\n",
      "{\n",
      "  \"average_accuracy_percent\": 83.71760500446827,\n",
      "  \"correct_points_total\": 4684,\n",
      "  \"csv_path\": \"./evaluation/terabandMuster_2_5s/analysis/metrics_per_frame.csv\",\n",
      "  \"duration_s\": 5,\n",
      "  \"equipment_type\": \"terabandMuster\",\n",
      "  \"frames_analyzed\": 150,\n",
      "  \"num\": 2,\n",
      "  \"visible_points_total\": 5595\n",
      "}\n",
      "{\n",
      "  \"average_accuracy_percent\": 85.27014790220345,\n",
      "  \"correct_points_total\": 5650,\n",
      "  \"csv_path\": \"./evaluation/terabandMuster_3_5s/analysis/metrics_per_frame.csv\",\n",
      "  \"duration_s\": 5,\n",
      "  \"equipment_type\": \"terabandMuster\",\n",
      "  \"frames_analyzed\": 150,\n",
      "  \"num\": 3,\n",
      "  \"visible_points_total\": 6626\n",
      "}\n",
      "{\n",
      "  \"average_accuracy_percent\": 73.46082089552239,\n",
      "  \"correct_points_total\": 12600,\n",
      "  \"csv_path\": \"./evaluation/terabandMuster_4_10s/analysis/metrics_per_frame.csv\",\n",
      "  \"duration_s\": 10,\n",
      "  \"equipment_type\": \"terabandMuster\",\n",
      "  \"frames_analyzed\": 300,\n",
      "  \"num\": 4,\n",
      "  \"visible_points_total\": 17152\n",
      "}\n",
      "{\n",
      "  \"average_accuracy_percent\": 80.79412693400694,\n",
      "  \"correct_points_total\": 10235,\n",
      "  \"csv_path\": \"./evaluation/terabandMuster_5_10s/analysis/metrics_per_frame.csv\",\n",
      "  \"duration_s\": 10,\n",
      "  \"equipment_type\": \"terabandMuster\",\n",
      "  \"frames_analyzed\": 300,\n",
      "  \"num\": 5,\n",
      "  \"visible_points_total\": 12668\n",
      "}\n",
      "{\n",
      "  \"average_accuracy_percent\": 80.120966036459,\n",
      "  \"correct_points_total\": 37886,\n",
      "  \"csv_path\": \"./evaluation/terabandMuster_6_30s/analysis/metrics_per_frame.csv\",\n",
      "  \"duration_s\": 30,\n",
      "  \"equipment_type\": \"terabandMuster\",\n",
      "  \"frames_analyzed\": 900,\n",
      "  \"num\": 6,\n",
      "  \"visible_points_total\": 47286\n",
      "}\n",
      "{\n",
      "  \"average_accuracy_percent\": 38.426125737303984,\n",
      "  \"correct_points_total\": 2671,\n",
      "  \"csv_path\": \"./evaluation/teraband_1_5s/analysis/metrics_per_frame.csv\",\n",
      "  \"duration_s\": 5,\n",
      "  \"equipment_type\": \"teraband\",\n",
      "  \"frames_analyzed\": 150,\n",
      "  \"num\": 1,\n",
      "  \"visible_points_total\": 6951\n",
      "}\n",
      "{\n",
      "  \"average_accuracy_percent\": 45.67611905319897,\n",
      "  \"correct_points_total\": 1949,\n",
      "  \"csv_path\": \"./evaluation/teraband_2_5s/analysis/metrics_per_frame.csv\",\n",
      "  \"duration_s\": 5,\n",
      "  \"equipment_type\": \"teraband\",\n",
      "  \"frames_analyzed\": 150,\n",
      "  \"num\": 2,\n",
      "  \"visible_points_total\": 4267\n",
      "}\n",
      "{\n",
      "  \"average_accuracy_percent\": 17.95837023914969,\n",
      "  \"correct_points_total\": 1622,\n",
      "  \"csv_path\": \"./evaluation/teraband_3_5s/analysis/metrics_per_frame.csv\",\n",
      "  \"duration_s\": 5,\n",
      "  \"equipment_type\": \"teraband\",\n",
      "  \"frames_analyzed\": 150,\n",
      "  \"num\": 3,\n",
      "  \"visible_points_total\": 9032\n",
      "}\n",
      "{\n",
      "  \"average_accuracy_percent\": 32.250935056103366,\n",
      "  \"correct_points_total\": 5691,\n",
      "  \"csv_path\": \"./evaluation/teraband_4_10s/analysis/metrics_per_frame.csv\",\n",
      "  \"duration_s\": 10,\n",
      "  \"equipment_type\": \"teraband\",\n",
      "  \"frames_analyzed\": 300,\n",
      "  \"num\": 4,\n",
      "  \"visible_points_total\": 17646\n",
      "}\n",
      "{\n",
      "  \"average_accuracy_percent\": 73.95238095238095,\n",
      "  \"correct_points_total\": 1553,\n",
      "  \"csv_path\": \"./evaluation/teraband_5_10s/analysis/metrics_per_frame.csv\",\n",
      "  \"duration_s\": 10,\n",
      "  \"equipment_type\": \"teraband\",\n",
      "  \"frames_analyzed\": 300,\n",
      "  \"num\": 5,\n",
      "  \"visible_points_total\": 2100\n",
      "}\n",
      "{\n",
      "  \"average_accuracy_percent\": 33.73141054529067,\n",
      "  \"correct_points_total\": 17964,\n",
      "  \"csv_path\": \"./evaluation/teraband_6_30s/analysis/metrics_per_frame.csv\",\n",
      "  \"duration_s\": 30,\n",
      "  \"equipment_type\": \"teraband\",\n",
      "  \"frames_analyzed\": 900,\n",
      "  \"num\": 6,\n",
      "  \"visible_points_total\": 53256\n",
      "}\n"
     ]
    }
   ],
   "execution_count": 48
  },
  {
   "metadata": {},
   "cell_type": "markdown",
   "source": [
    "# Analysis\n",
    "\n",
    "1. bar graph \"Average accuracy per Equiment type and clip duration"
   ],
   "id": "84c9b34088d813c4"
  },
  {
   "metadata": {
    "ExecuteTime": {
     "end_time": "2025-08-31T16:59:37.879315Z",
     "start_time": "2025-08-31T16:59:37.870412Z"
    }
   },
   "cell_type": "code",
   "source": [
    "# DataFrame\n",
    "df = pd.DataFrame(results)[[\"equipment_type\", \"duration_s\", \"average_accuracy_percent\"]].copy()\n",
    "df[\"duration_s\"] = df[\"duration_s\"].astype(int)\n",
    "df[\"average_accuracy_percent\"] = df[\"average_accuracy_percent\"].astype(float)\n",
    "\n",
    "# Apply readable equipment labels\n",
    "df[\"equipment_type\"] = df[\"equipment_type\"].replace(LABEL_MAP)\n",
    "\n",
    "# Aggregate: mean, std, count by (equipment_type, duration_s)\n",
    "agg = (\n",
    "    df.groupby([\"equipment_type\", \"duration_s\"])[\"average_accuracy_percent\"]\n",
    "      .agg(mean=\"mean\", std=\"std\", count=\"count\")\n",
    "      .reset_index()\n",
    ")\n",
    "\n",
    "# 1) Standard error (guard vs. div-by-zero just in case)\n",
    "agg[\"stderr\"] = agg[\"std\"] / np.sqrt(agg[\"count\"].clip(lower=1))\n",
    "\n",
    "# 2) Pivot to wide\n",
    "means_wide  = agg.pivot(index=\"equipment_type\", columns=\"duration_s\", values=\"mean\")\n",
    "stderr_wide = agg.pivot(index=\"equipment_type\", columns=\"duration_s\", values=\"stderr\")\n",
    "\n",
    "# 3) Neaten: sort columns (durations) ascending and keep stderr aligned\n",
    "means_wide  = means_wide.reindex(sorted(means_wide.columns), axis=1)\n",
    "stderr_wide = stderr_wide.reindex(means_wide.columns, axis=1)\n",
    "\n",
    "# 4) (Optional) sort rows by overall mean (desc)\n",
    "order = means_wide.mean(axis=1).sort_values(ascending=False).index\n",
    "means_wide  = means_wide.loc[order]\n",
    "stderr_wide = stderr_wide.loc[order]"
   ],
   "id": "2ce166fa159d115a",
   "outputs": [],
   "execution_count": 49
  },
  {
   "metadata": {
    "ExecuteTime": {
     "end_time": "2025-08-31T16:59:37.899266Z",
     "start_time": "2025-08-31T16:59:37.886855Z"
    }
   },
   "cell_type": "code",
   "source": [
    "import plotly.graph_objects as go\n",
    "\n",
    "x_cats   = list(means_wide.index)\n",
    "durations = list(means_wide.columns)\n",
    "\n",
    "fig = go.Figure()\n",
    "\n",
    "for d in durations:\n",
    "    y   = means_wide[d].astype(float).values\n",
    "    err = stderr_wide[d].astype(float).values if 'stderr_wide' in globals() else None\n",
    "\n",
    "    # Labels at the base of each bar; if a bar is very small, put the label outside to keep it readable\n",
    "    text     = [f\"{v:.1f}\" for v in y]\n",
    "    textpos  = [\"inside\" if v >= 10 else \"outside\" for v in y]  # threshold can be tweaked\n",
    "\n",
    "    fig.add_trace(go.Bar(\n",
    "        x=x_cats, y=y, name=f\"{d} s\",\n",
    "        error_y=dict(type=\"data\", array=err, visible=err is not None),\n",
    "        text=text,\n",
    "        textposition=textpos,\n",
    "        insidetextanchor=\"start\",   # <— anchor text at the bar’s base\n",
    "        textfont=dict(size=8, color=\"black\"),\n",
    "        cliponaxis=False,\n",
    "        hovertemplate=\"Equipment: %{x}<br>Duration: \" + str(d) + \" s<br>Accuracy: %{y:.1f}%<extra></extra>\"\n",
    "    ))\n",
    "\n",
    "fig.update_layout(\n",
    "    barmode=\"group\",\n",
    "    yaxis=dict(range=[0, 100], title=\"Average accuracy (%)\"),\n",
    "    xaxis_title=\"Equipment type\",\n",
    "    legend=dict(x=1.02, y=1, xanchor=\"left\", orientation=\"v\"),\n",
    "    margin=dict(t=40, b=80, l=60, r=160),\n",
    ")\n",
    "\n",
    "fig.show()\n"
   ],
   "id": "879c63bfe576709a",
   "outputs": [
    {
     "data": {
      "application/vnd.plotly.v1+json": {
       "data": [
        {
         "cliponaxis": false,
         "error_y": {
          "array": {
           "dtype": "f8",
           "bdata": "/nC470OAAEBTwFn/HAX4P0thwVEUwxFAN0JJvimZIEA="
          },
          "type": "data",
          "visible": true
         },
         "hovertemplate": "Equipment: %{x}<br>Duration: 5 s<br>Accuracy: %{y:.1f}%<extra></extra>",
         "insidetextanchor": "start",
         "name": "5 s",
         "text": [
          "97.3",
          "88.4",
          "80.1",
          "34.0"
         ],
         "textfont": {
          "color": "black",
          "size": 8
         },
         "textposition": [
          "inside",
          "inside",
          "inside",
          "inside"
         ],
         "x": [
          "Sponge",
          "Gymnastics ball",
          "Exercise band\n(trackingmarker)",
          "Exercise band\n(plain)"
         ],
         "y": {
          "dtype": "f8",
          "bdata": "3sxj74tVWEB58lIwaxdWQNwTHerdBFRAg1XoE5YCQUA="
         },
         "type": "bar"
        },
        {
         "cliponaxis": false,
         "error_y": {
          "array": {
           "dtype": "f8",
           "bdata": "AAAAAAAA+H8gIIHtC2btP99mmy1OVQ1Aezao+sjZNEA="
          },
          "type": "data",
          "visible": true
         },
         "hovertemplate": "Equipment: %{x}<br>Duration: 10 s<br>Accuracy: %{y:.1f}%<extra></extra>",
         "insidetextanchor": "start",
         "name": "10 s",
         "text": [
          "99.9",
          "87.6",
          "77.1",
          "53.1"
         ],
         "textfont": {
          "color": "black",
          "size": 8
         },
         "textposition": [
          "inside",
          "inside",
          "inside",
          "inside"
         ],
         "x": [
          "Sponge",
          "Gymnastics ball",
          "Exercise band\n(trackingmarker)",
          "Exercise band\n(plain)"
         ],
         "y": {
          "dtype": "f8",
          "bdata": "SYmpTaz8WEAN77vrdulVQHjAWYgoSFNAYMwlIQONSkA="
         },
         "type": "bar"
        },
        {
         "cliponaxis": false,
         "error_y": {
          "array": {
           "dtype": "f8",
           "bdata": "AAAAAAAA+H8A0X8g89fUPwAAAAAAAPh/AAAAAAAA+H8="
          },
          "type": "data",
          "visible": true
         },
         "hovertemplate": "Equipment: %{x}<br>Duration: 30 s<br>Accuracy: %{y:.1f}%<extra></extra>",
         "insidetextanchor": "start",
         "name": "30 s",
         "text": [
          "nan",
          "85.2",
          "80.1",
          "33.7"
         ],
         "textfont": {
          "color": "black",
          "size": 8
         },
         "textposition": [
          "outside",
          "inside",
          "inside",
          "inside"
         ],
         "x": [
          "Sponge",
          "Gymnastics ball",
          "Exercise band\n(trackingmarker)",
          "Exercise band\n(plain)"
         ],
         "y": {
          "dtype": "f8",
          "bdata": "AAAAAAAA+H9c4ymq/0pVQCmhVOi9B1RAivxZ3J7dQEA="
         },
         "type": "bar"
        }
       ],
       "layout": {
        "template": {
         "data": {
          "histogram2dcontour": [
           {
            "type": "histogram2dcontour",
            "colorbar": {
             "outlinewidth": 0,
             "ticks": ""
            },
            "colorscale": [
             [
              0.0,
              "#0d0887"
             ],
             [
              0.1111111111111111,
              "#46039f"
             ],
             [
              0.2222222222222222,
              "#7201a8"
             ],
             [
              0.3333333333333333,
              "#9c179e"
             ],
             [
              0.4444444444444444,
              "#bd3786"
             ],
             [
              0.5555555555555556,
              "#d8576b"
             ],
             [
              0.6666666666666666,
              "#ed7953"
             ],
             [
              0.7777777777777778,
              "#fb9f3a"
             ],
             [
              0.8888888888888888,
              "#fdca26"
             ],
             [
              1.0,
              "#f0f921"
             ]
            ]
           }
          ],
          "choropleth": [
           {
            "type": "choropleth",
            "colorbar": {
             "outlinewidth": 0,
             "ticks": ""
            }
           }
          ],
          "histogram2d": [
           {
            "type": "histogram2d",
            "colorbar": {
             "outlinewidth": 0,
             "ticks": ""
            },
            "colorscale": [
             [
              0.0,
              "#0d0887"
             ],
             [
              0.1111111111111111,
              "#46039f"
             ],
             [
              0.2222222222222222,
              "#7201a8"
             ],
             [
              0.3333333333333333,
              "#9c179e"
             ],
             [
              0.4444444444444444,
              "#bd3786"
             ],
             [
              0.5555555555555556,
              "#d8576b"
             ],
             [
              0.6666666666666666,
              "#ed7953"
             ],
             [
              0.7777777777777778,
              "#fb9f3a"
             ],
             [
              0.8888888888888888,
              "#fdca26"
             ],
             [
              1.0,
              "#f0f921"
             ]
            ]
           }
          ],
          "heatmap": [
           {
            "type": "heatmap",
            "colorbar": {
             "outlinewidth": 0,
             "ticks": ""
            },
            "colorscale": [
             [
              0.0,
              "#0d0887"
             ],
             [
              0.1111111111111111,
              "#46039f"
             ],
             [
              0.2222222222222222,
              "#7201a8"
             ],
             [
              0.3333333333333333,
              "#9c179e"
             ],
             [
              0.4444444444444444,
              "#bd3786"
             ],
             [
              0.5555555555555556,
              "#d8576b"
             ],
             [
              0.6666666666666666,
              "#ed7953"
             ],
             [
              0.7777777777777778,
              "#fb9f3a"
             ],
             [
              0.8888888888888888,
              "#fdca26"
             ],
             [
              1.0,
              "#f0f921"
             ]
            ]
           }
          ],
          "contourcarpet": [
           {
            "type": "contourcarpet",
            "colorbar": {
             "outlinewidth": 0,
             "ticks": ""
            }
           }
          ],
          "contour": [
           {
            "type": "contour",
            "colorbar": {
             "outlinewidth": 0,
             "ticks": ""
            },
            "colorscale": [
             [
              0.0,
              "#0d0887"
             ],
             [
              0.1111111111111111,
              "#46039f"
             ],
             [
              0.2222222222222222,
              "#7201a8"
             ],
             [
              0.3333333333333333,
              "#9c179e"
             ],
             [
              0.4444444444444444,
              "#bd3786"
             ],
             [
              0.5555555555555556,
              "#d8576b"
             ],
             [
              0.6666666666666666,
              "#ed7953"
             ],
             [
              0.7777777777777778,
              "#fb9f3a"
             ],
             [
              0.8888888888888888,
              "#fdca26"
             ],
             [
              1.0,
              "#f0f921"
             ]
            ]
           }
          ],
          "surface": [
           {
            "type": "surface",
            "colorbar": {
             "outlinewidth": 0,
             "ticks": ""
            },
            "colorscale": [
             [
              0.0,
              "#0d0887"
             ],
             [
              0.1111111111111111,
              "#46039f"
             ],
             [
              0.2222222222222222,
              "#7201a8"
             ],
             [
              0.3333333333333333,
              "#9c179e"
             ],
             [
              0.4444444444444444,
              "#bd3786"
             ],
             [
              0.5555555555555556,
              "#d8576b"
             ],
             [
              0.6666666666666666,
              "#ed7953"
             ],
             [
              0.7777777777777778,
              "#fb9f3a"
             ],
             [
              0.8888888888888888,
              "#fdca26"
             ],
             [
              1.0,
              "#f0f921"
             ]
            ]
           }
          ],
          "mesh3d": [
           {
            "type": "mesh3d",
            "colorbar": {
             "outlinewidth": 0,
             "ticks": ""
            }
           }
          ],
          "scatter": [
           {
            "fillpattern": {
             "fillmode": "overlay",
             "size": 10,
             "solidity": 0.2
            },
            "type": "scatter"
           }
          ],
          "parcoords": [
           {
            "type": "parcoords",
            "line": {
             "colorbar": {
              "outlinewidth": 0,
              "ticks": ""
             }
            }
           }
          ],
          "scatterpolargl": [
           {
            "type": "scatterpolargl",
            "marker": {
             "colorbar": {
              "outlinewidth": 0,
              "ticks": ""
             }
            }
           }
          ],
          "bar": [
           {
            "error_x": {
             "color": "#2a3f5f"
            },
            "error_y": {
             "color": "#2a3f5f"
            },
            "marker": {
             "line": {
              "color": "#E5ECF6",
              "width": 0.5
             },
             "pattern": {
              "fillmode": "overlay",
              "size": 10,
              "solidity": 0.2
             }
            },
            "type": "bar"
           }
          ],
          "scattergeo": [
           {
            "type": "scattergeo",
            "marker": {
             "colorbar": {
              "outlinewidth": 0,
              "ticks": ""
             }
            }
           }
          ],
          "scatterpolar": [
           {
            "type": "scatterpolar",
            "marker": {
             "colorbar": {
              "outlinewidth": 0,
              "ticks": ""
             }
            }
           }
          ],
          "histogram": [
           {
            "marker": {
             "pattern": {
              "fillmode": "overlay",
              "size": 10,
              "solidity": 0.2
             }
            },
            "type": "histogram"
           }
          ],
          "scattergl": [
           {
            "type": "scattergl",
            "marker": {
             "colorbar": {
              "outlinewidth": 0,
              "ticks": ""
             }
            }
           }
          ],
          "scatter3d": [
           {
            "type": "scatter3d",
            "line": {
             "colorbar": {
              "outlinewidth": 0,
              "ticks": ""
             }
            },
            "marker": {
             "colorbar": {
              "outlinewidth": 0,
              "ticks": ""
             }
            }
           }
          ],
          "scattermap": [
           {
            "type": "scattermap",
            "marker": {
             "colorbar": {
              "outlinewidth": 0,
              "ticks": ""
             }
            }
           }
          ],
          "scattermapbox": [
           {
            "type": "scattermapbox",
            "marker": {
             "colorbar": {
              "outlinewidth": 0,
              "ticks": ""
             }
            }
           }
          ],
          "scatterternary": [
           {
            "type": "scatterternary",
            "marker": {
             "colorbar": {
              "outlinewidth": 0,
              "ticks": ""
             }
            }
           }
          ],
          "scattercarpet": [
           {
            "type": "scattercarpet",
            "marker": {
             "colorbar": {
              "outlinewidth": 0,
              "ticks": ""
             }
            }
           }
          ],
          "carpet": [
           {
            "aaxis": {
             "endlinecolor": "#2a3f5f",
             "gridcolor": "white",
             "linecolor": "white",
             "minorgridcolor": "white",
             "startlinecolor": "#2a3f5f"
            },
            "baxis": {
             "endlinecolor": "#2a3f5f",
             "gridcolor": "white",
             "linecolor": "white",
             "minorgridcolor": "white",
             "startlinecolor": "#2a3f5f"
            },
            "type": "carpet"
           }
          ],
          "table": [
           {
            "cells": {
             "fill": {
              "color": "#EBF0F8"
             },
             "line": {
              "color": "white"
             }
            },
            "header": {
             "fill": {
              "color": "#C8D4E3"
             },
             "line": {
              "color": "white"
             }
            },
            "type": "table"
           }
          ],
          "barpolar": [
           {
            "marker": {
             "line": {
              "color": "#E5ECF6",
              "width": 0.5
             },
             "pattern": {
              "fillmode": "overlay",
              "size": 10,
              "solidity": 0.2
             }
            },
            "type": "barpolar"
           }
          ],
          "pie": [
           {
            "automargin": true,
            "type": "pie"
           }
          ]
         },
         "layout": {
          "autotypenumbers": "strict",
          "colorway": [
           "#636efa",
           "#EF553B",
           "#00cc96",
           "#ab63fa",
           "#FFA15A",
           "#19d3f3",
           "#FF6692",
           "#B6E880",
           "#FF97FF",
           "#FECB52"
          ],
          "font": {
           "color": "#2a3f5f"
          },
          "hovermode": "closest",
          "hoverlabel": {
           "align": "left"
          },
          "paper_bgcolor": "white",
          "plot_bgcolor": "#E5ECF6",
          "polar": {
           "bgcolor": "#E5ECF6",
           "angularaxis": {
            "gridcolor": "white",
            "linecolor": "white",
            "ticks": ""
           },
           "radialaxis": {
            "gridcolor": "white",
            "linecolor": "white",
            "ticks": ""
           }
          },
          "ternary": {
           "bgcolor": "#E5ECF6",
           "aaxis": {
            "gridcolor": "white",
            "linecolor": "white",
            "ticks": ""
           },
           "baxis": {
            "gridcolor": "white",
            "linecolor": "white",
            "ticks": ""
           },
           "caxis": {
            "gridcolor": "white",
            "linecolor": "white",
            "ticks": ""
           }
          },
          "coloraxis": {
           "colorbar": {
            "outlinewidth": 0,
            "ticks": ""
           }
          },
          "colorscale": {
           "sequential": [
            [
             0.0,
             "#0d0887"
            ],
            [
             0.1111111111111111,
             "#46039f"
            ],
            [
             0.2222222222222222,
             "#7201a8"
            ],
            [
             0.3333333333333333,
             "#9c179e"
            ],
            [
             0.4444444444444444,
             "#bd3786"
            ],
            [
             0.5555555555555556,
             "#d8576b"
            ],
            [
             0.6666666666666666,
             "#ed7953"
            ],
            [
             0.7777777777777778,
             "#fb9f3a"
            ],
            [
             0.8888888888888888,
             "#fdca26"
            ],
            [
             1.0,
             "#f0f921"
            ]
           ],
           "sequentialminus": [
            [
             0.0,
             "#0d0887"
            ],
            [
             0.1111111111111111,
             "#46039f"
            ],
            [
             0.2222222222222222,
             "#7201a8"
            ],
            [
             0.3333333333333333,
             "#9c179e"
            ],
            [
             0.4444444444444444,
             "#bd3786"
            ],
            [
             0.5555555555555556,
             "#d8576b"
            ],
            [
             0.6666666666666666,
             "#ed7953"
            ],
            [
             0.7777777777777778,
             "#fb9f3a"
            ],
            [
             0.8888888888888888,
             "#fdca26"
            ],
            [
             1.0,
             "#f0f921"
            ]
           ],
           "diverging": [
            [
             0,
             "#8e0152"
            ],
            [
             0.1,
             "#c51b7d"
            ],
            [
             0.2,
             "#de77ae"
            ],
            [
             0.3,
             "#f1b6da"
            ],
            [
             0.4,
             "#fde0ef"
            ],
            [
             0.5,
             "#f7f7f7"
            ],
            [
             0.6,
             "#e6f5d0"
            ],
            [
             0.7,
             "#b8e186"
            ],
            [
             0.8,
             "#7fbc41"
            ],
            [
             0.9,
             "#4d9221"
            ],
            [
             1,
             "#276419"
            ]
           ]
          },
          "xaxis": {
           "gridcolor": "white",
           "linecolor": "white",
           "ticks": "",
           "title": {
            "standoff": 15
           },
           "zerolinecolor": "white",
           "automargin": true,
           "zerolinewidth": 2
          },
          "yaxis": {
           "gridcolor": "white",
           "linecolor": "white",
           "ticks": "",
           "title": {
            "standoff": 15
           },
           "zerolinecolor": "white",
           "automargin": true,
           "zerolinewidth": 2
          },
          "scene": {
           "xaxis": {
            "backgroundcolor": "#E5ECF6",
            "gridcolor": "white",
            "linecolor": "white",
            "showbackground": true,
            "ticks": "",
            "zerolinecolor": "white",
            "gridwidth": 2
           },
           "yaxis": {
            "backgroundcolor": "#E5ECF6",
            "gridcolor": "white",
            "linecolor": "white",
            "showbackground": true,
            "ticks": "",
            "zerolinecolor": "white",
            "gridwidth": 2
           },
           "zaxis": {
            "backgroundcolor": "#E5ECF6",
            "gridcolor": "white",
            "linecolor": "white",
            "showbackground": true,
            "ticks": "",
            "zerolinecolor": "white",
            "gridwidth": 2
           }
          },
          "shapedefaults": {
           "line": {
            "color": "#2a3f5f"
           }
          },
          "annotationdefaults": {
           "arrowcolor": "#2a3f5f",
           "arrowhead": 0,
           "arrowwidth": 1
          },
          "geo": {
           "bgcolor": "white",
           "landcolor": "#E5ECF6",
           "subunitcolor": "white",
           "showland": true,
           "showlakes": true,
           "lakecolor": "white"
          },
          "title": {
           "x": 0.05
          },
          "mapbox": {
           "style": "light"
          }
         }
        },
        "yaxis": {
         "range": [
          0,
          100
         ],
         "title": {
          "text": "Average accuracy (%)"
         }
        },
        "legend": {
         "x": 1.02,
         "y": 1,
         "xanchor": "left",
         "orientation": "v"
        },
        "margin": {
         "t": 40,
         "b": 80,
         "l": 60,
         "r": 160
        },
        "barmode": "group",
        "xaxis": {
         "title": {
          "text": "Equipment type"
         }
        }
       },
       "config": {
        "plotlyServerURL": "https://plot.ly"
       }
      }
     },
     "metadata": {},
     "output_type": "display_data",
     "jetTransient": {
      "display_id": null
     }
    }
   ],
   "execution_count": 50
  },
  {
   "metadata": {},
   "cell_type": "markdown",
   "source": "2. accuracy over time",
   "id": "585565dda1ce6bf5"
  },
  {
   "metadata": {
    "ExecuteTime": {
     "end_time": "2025-08-31T16:59:38.082025Z",
     "start_time": "2025-08-31T16:59:37.909348Z"
    }
   },
   "cell_type": "code",
   "source": [
    "required_cols = {\"frame\", \"accuracy_percent\"}\n",
    "rows = []\n",
    "Y_LIMIT = (0, 120)\n",
    "\n",
    "if \"results\" not in globals():\n",
    "    raise NameError(\"Variable 'results' not found. Provide it as a list of dicts containing at least 'csv_path' and 'equipment_type'.\")\n",
    "\n",
    "for entry in results:\n",
    "    csv_path = entry.get(\"csv_path\")\n",
    "    eq = entry.get(\"equipment_type\")\n",
    "    analysis_dir = entry.get(\"analysis_dir\", \"\")\n",
    "\n",
    "    # derive a run_id from the parent folder of 'analysis'\n",
    "    # .../<eval_target>/analysis  -> run_id = <eval_target>\n",
    "    run_id = os.path.basename(os.path.dirname(analysis_dir)) or os.path.basename(analysis_dir)\n",
    "\n",
    "    if not csv_path or not os.path.isfile(csv_path):\n",
    "        print(f\"[skip] CSV not found: {csv_path}\")\n",
    "        continue\n",
    "\n",
    "    try:\n",
    "        tmp = pd.read_csv(\n",
    "            csv_path,\n",
    "            usecols=[\"frame\", \"accuracy_percent\"]  # we only need these two for this plot\n",
    "        )\n",
    "    except Exception as e:\n",
    "        print(f\"[skip] Failed reading {csv_path}: {e}\")\n",
    "        continue\n",
    "\n",
    "    if not required_cols.issubset(tmp.columns):\n",
    "        print(f\"[skip] Missing required cols in {csv_path}: {required_cols - set(tmp.columns)}\")\n",
    "        continue\n",
    "\n",
    "    tmp = tmp.copy()\n",
    "    tmp[\"frame\"] = tmp[\"frame\"].astype(int)\n",
    "    tmp[\"accuracy_percent\"] = tmp[\"accuracy_percent\"].astype(float)\n",
    "    tmp[\"equipment_type\"] = eq\n",
    "    tmp[\"run_id\"] = run_id\n",
    "    rows.append(tmp)\n",
    "\n",
    "if not rows:\n",
    "    raise RuntimeError(\"No CSV data collected. Check 'results' and file paths.\")\n",
    "\n",
    "df_frames = pd.concat(rows, ignore_index=True)\n",
    "# apply human-readable equipment labels\n",
    "df_frames[\"equipment_type\"] = df_frames[\"equipment_type\"].map(lambda v: LABEL_MAP.get(v, v))\n",
    "\n",
    "# --- Aggregate over available runs per absolute frame index ---\n",
    "# (Different run lengths are naturally handled; higher frames average over fewer runs.)\n",
    "overall = (\n",
    "    df_frames\n",
    "    .groupby(\"frame\")[\"accuracy_percent\"]\n",
    "    .mean()\n",
    "    .reset_index()\n",
    "    .sort_values(\"frame\")\n",
    ")\n",
    "\n",
    "by_eq = (\n",
    "    df_frames\n",
    "    .groupby([\"equipment_type\", \"frame\"])[\"accuracy_percent\"]\n",
    "    .mean()\n",
    "    .reset_index()\n",
    "    .sort_values([\"equipment_type\", \"frame\"])\n",
    ")\n",
    "\n",
    "# --- Smoothed versions (rolling mean on the aggregated series) ---\n",
    "def smooth(df, value_col=\"accuracy_percent\", group_cols=None, window=SMOOTH_WINDOW_FRAMES):\n",
    "    if group_cols is None:\n",
    "        # single series\n",
    "        d = df.sort_values(\"frame\").copy()\n",
    "        d[\"smoothed\"] = d[value_col].rolling(window=window, center=True, min_periods=max(1, window // 3)).mean()\n",
    "        return d\n",
    "    else:\n",
    "        # grouped series (per equipment)\n",
    "        def _apply(g):\n",
    "            g = g.sort_values(\"frame\").copy()\n",
    "            g[\"smoothed\"] = g[value_col].rolling(window=window, center=True, min_periods=max(1, window // 3)).mean()\n",
    "            return g\n",
    "        return df.groupby(group_cols, group_keys=False).apply(_apply)\n",
    "\n",
    "overall_s = smooth(overall, value_col=\"accuracy_percent\", group_cols=None)\n",
    "by_eq_s   = smooth(by_eq, value_col=\"accuracy_percent\", group_cols=[\"equipment_type\"])\n",
    "\n",
    "# --- Plot: unsmoothed (top) and smoothed (bottom) ---\n",
    "eq_list = sorted(df_frames[\"equipment_type\"].unique())\n",
    "palette = {}\n",
    "colors = sns.color_palette(\"tab10\", n_colors=max(10, len(eq_list)))\n",
    "for i, eq in enumerate(eq_list):\n",
    "    palette[eq] = colors[i % len(colors)]\n",
    "\n",
    "fig, (ax1, ax2) = plt.subplots(2, 1, figsize=(12, 8), sharex=True)\n",
    "\n",
    "# --- Top: UnsMoothed ---\n",
    "ax1.plot(overall[\"frame\"], overall[\"accuracy_percent\"], color=\"black\", lw=2.2, label=\"Overall\")\n",
    "for eq in eq_list:\n",
    "    g = by_eq[by_eq[\"equipment_type\"] == eq]\n",
    "    ax1.plot(g[\"frame\"], g[\"accuracy_percent\"], lw=1.6, color=palette[eq], alpha=0.95, label=eq)\n",
    "\n",
    "ax1.set_ylim(*Y_LIMIT)\n",
    "ax1.set_ylabel(\"Accuracy (%)\")\n",
    "ax1.set_title(\"Tracking accuracy over frames — unsmoothed\")\n",
    "ax1.grid(True, axis=\"both\", alpha=0.25)\n",
    "\n",
    "# # place legend outside the top axis\n",
    "# handles, labels = ax1.get_legend_handles_labels()\n",
    "# ax1.legend(handles, labels, loc=\"lower center\", bbox_to_anchor=(0.5, 1.02), ncol=3, frameon=True)\n",
    "\n",
    "# --- Bottom: Smoothed ---\n",
    "ax2.plot(overall_s[\"frame\"], overall_s[\"smoothed\"], color=\"black\", lw=2.2, label=\"Overall (smoothed)\")\n",
    "for eq in eq_list:\n",
    "    g = by_eq_s[by_eq_s[\"equipment_type\"] == eq]\n",
    "    ax2.plot(g[\"frame\"], g[\"smoothed\"], lw=1.8, color=palette[eq], alpha=0.95, label=f\"{eq}\")\n",
    "\n",
    "ax2.set_ylim(*Y_LIMIT)\n",
    "ax2.set_xlabel(\"Frame\")\n",
    "ax2.set_ylabel(\"Accuracy (%)\")\n",
    "ax2.set_title(f\"Tracking accuracy over frames — smoothed (rolling window = {SMOOTH_WINDOW_FRAMES})\")\n",
    "ax2.grid(True, axis=\"both\", alpha=0.25)\n",
    "\n",
    "# --- Single legend to the RIGHT for both subplots ---\n",
    "# collect handles/labels from the top axis (avoid duplicates)\n",
    "handles, labels = ax1.get_legend_handles_labels()\n",
    "by_label = dict(zip(labels, handles))  # deduplicate while preserving last\n",
    "\n",
    "# leave room on the right for the legend panel\n",
    "fig.subplots_adjust(right=0.78, top=0.90, bottom=0.10)\n",
    "\n",
    "fig.legend(\n",
    "    list(by_label.values()),\n",
    "    list(by_label.keys()),\n",
    "    loc=\"center left\",\n",
    "    bbox_to_anchor=(0.80, 0.5),  # just outside the plotting area\n",
    "    frameon=True,\n",
    "    title=\"Series\",\n",
    "    borderaxespad=0.0,\n",
    ")\n",
    "\n",
    "plt.show()"
   ],
   "id": "6b64347854cb309",
   "outputs": [
    {
     "name": "stderr",
     "output_type": "stream",
     "text": [
      "/var/folders/jp/g933n74j7yn5xk_r1klnq9xr0000gn/T/ipykernel_536/1738112412.py:79: FutureWarning:\n",
      "\n",
      "DataFrameGroupBy.apply operated on the grouping columns. This behavior is deprecated, and in a future version of pandas the grouping columns will be excluded from the operation. Either pass `include_groups=False` to exclude the groupings or explicitly select the grouping columns after groupby to silence this warning.\n",
      "\n"
     ]
    },
    {
     "data": {
      "text/plain": [
       "<Figure size 1200x800 with 2 Axes>"
      ],
      "image/png": "[encoded data removed]"
     },
     "metadata": {},
     "output_type": "display_data",
     "jetTransient": {
      "display_id": null
     }
    }
   ],
   "execution_count": 51
  }
 ],
 "metadata": {
  "kernelspec": {
   "display_name": "Python 3",
   "language": "python",
   "name": "python3"
  },
  "language_info": {
   "codemirror_mode": {
    "name": "ipython",
    "version": 2
   },
   "file_extension": ".py",
   "mimetype": "text/x-python",
   "name": "python",
   "nbconvert_exporter": "python",
   "pygments_lexer": "ipython2",
   "version": "2.7.6"
  }
 },
 "nbformat": 4,
 "nbformat_minor": 5
}
